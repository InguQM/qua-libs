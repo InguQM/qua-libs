{
 "cells": [
  {
   "cell_type": "markdown",
   "metadata": {},
   "source": [
    "# Calibration order"
   ]
  },
  {
   "cell_type": "markdown",
   "metadata": {},
   "source": [
    "01b time of flight mw fem\n",
    "02a resonator spectroscopy\n",
    "02b resonator spectroscopy vs flux\n",
    "03a qubit spectroscopy\n",
    "03b qubit spectroscopy vs flux\n",
    "o3c\n",
    "04 power rabi\n",
    "05 T1 *\n",
    "06 Ramsey\n",
    "07a Readout frequency optimization\n",
    "07b IQ blob\n",
    "08 Ramsey vs flux\n",
    "09b DRAG calibration 180\n",
    "11a Readout frequency optimization GEF vs amp\n",
    "11b Qubit spectroscopy EF\n",
    "11c Power rabi EF\n",
    "21 Z gate calibration\n",
    "22 Z gate error amplification\n",
    "23a Z crosstalk pulsed amp\n",
    "30a oscillation\n",
    "32a\n",
    "61 Coupler Zeropoint calibration\n",
    "62 Coupler interaction strength calibration\n",
    "\n",
    "\n",
    "65a Oscillation+Coupler\n",
    "\n",
    "--------------------------------------\n",
    "rabi-ramsey-drag-pi train-\n",
    "\n"
   ]
  },
  {
   "cell_type": "markdown",
   "metadata": {},
   "source": []
  }
 ],
 "metadata": {
  "language_info": {
   "name": "python"
  }
 },
 "nbformat": 4,
 "nbformat_minor": 2
}
