{
 "cells": [
  {
   "cell_type": "code",
   "execution_count": null,
   "id": "aa4e3313",
   "metadata": {},
   "outputs": [
    {
     "name": "stdout",
     "output_type": "stream",
     "text": [
      "2025-08-20 10:10:32,995 - qm - INFO     - Starting session: 50e2e522-baec-4d6f-996b-53f9c05a6235\n",
      "2025-08-20 10:10:36,927 - qm - INFO     - Performing health check\n",
      "2025-08-20 10:10:37,226 - qm - INFO     - Cluster healthcheck completed successfully.\n",
      "config seperation: True\n"
     ]
    }
   ],
   "source": [
    "from qm import QuantumMachinesManager, QopCaps\n",
    "from qm.qua import *\n",
    "from configuration import *\n",
    "\n",
    "qop_ip = \"127.0.0.1\" \n",
    "cluster_name = None \n",
    "qmm = QuantumMachinesManager(host=qop_ip,port=None, cluster_name=cluster_name)\n",
    "print(f\"config seperation: {qmm.capabilities.supports(QopCaps.config_v2)}\")"
   ]
  },
  {
   "cell_type": "code",
   "execution_count": 2,
   "id": "9b28fe66",
   "metadata": {},
   "outputs": [],
   "source": [
    "with program() as hello_qua:\n",
    "    set_dc_offset(\"q1_z\", \"single\", 0.153)\n",
    "    play(\"saturation\", \"q1_xy\")"
   ]
  },
  {
   "cell_type": "code",
   "execution_count": 3,
   "id": "1cd70e70",
   "metadata": {},
   "outputs": [
    {
     "name": "stderr",
     "output_type": "stream",
     "text": [
      "c:\\Users\\JackChao\\miniconda3\\envs\\qop350\\Lib\\site-packages\\qm\\program\\_qua_config_schema.py:1894: DeprecationWarning: 'version' is deprecated since \"1.2.2\" and will be removed in \"1.3.0\". Please remove it from the Qua config.\n",
      "  warnings.warn(\n"
     ]
    },
    {
     "name": "stdout",
     "output_type": "stream",
     "text": [
      "2025-08-20 10:10:37,670 - qm - INFO     - Clearing queue\n",
      "2025-08-20 10:10:38,267 - qm - INFO     - Adding program to queue.\n",
      "2025-08-20 10:10:39,667 - qm - INFO     - Job 7eb0031d-6bcf-4458-8694-3d553d049045 is done\n"
     ]
    }
   ],
   "source": [
    "# backward compatiblity, you can also use controller config to open qmm\n",
    "qm = qmm.open_qm(full_config,close_other_machines=True)\n",
    "job1 = qm.execute(hello_qua) \n",
    "job1.wait_until(\"Done\", timeout=60)"
   ]
  },
  {
   "cell_type": "code",
   "execution_count": 4,
   "id": "f48ba19f",
   "metadata": {},
   "outputs": [
    {
     "name": "stdout",
     "output_type": "stream",
     "text": [
      "2025-08-20 10:10:39,984 - qm - INFO     - Clearing queue\n",
      "2025-08-20 10:10:40,582 - qm - INFO     - Adding program to queue.\n"
     ]
    },
    {
     "name": "stderr",
     "output_type": "stream",
     "text": [
      "c:\\Users\\JackChao\\miniconda3\\envs\\qop350\\Lib\\site-packages\\qm\\program\\_qua_config_schema.py:1894: DeprecationWarning: 'version' is deprecated since \"1.2.2\" and will be removed in \"1.3.0\". Please remove it from the Qua config.\n",
      "  warnings.warn(\n"
     ]
    },
    {
     "name": "stdout",
     "output_type": "stream",
     "text": [
      "2025-08-20 10:10:41,997 - qm - INFO     - Job 873786c2-ea6b-4164-99b2-b453f31a67d7 is done\n"
     ]
    }
   ],
   "source": [
    "# change offset by full config\n",
    "full_config[\"controllers\"][con]['fems'][lf_fem]['analog_outputs'][1]['offset']=0.2\n",
    "# override config with modified full_config\n",
    "job2 = qm.execute(hello_qua, config=full_config) \n",
    "job2.wait_until(\"Done\", timeout=60)"
   ]
  },
  {
   "cell_type": "code",
   "execution_count": 5,
   "id": "0f396fb7",
   "metadata": {},
   "outputs": [
    {
     "name": "stdout",
     "output_type": "stream",
     "text": [
      "2025-08-20 10:10:42,306 - qm - INFO     - Clearing queue\n",
      "2025-08-20 10:10:42,901 - qm - INFO     - Adding program to queue.\n",
      "2025-08-20 10:10:44,308 - qm - INFO     - Job eaf562c1-1e66-4151-8800-899cbe4e0805 is done\n"
     ]
    }
   ],
   "source": [
    "# change pulse length by logical_config\n",
    "logical_config['pulses']['saturation_pulse']['length']= 2*saturation_len\n",
    "# override config with modified logical_config\n",
    "job3 = qm.execute(hello_qua, config=logical_config) \n",
    "job3.wait_until(\"Done\", timeout=60)"
   ]
  },
  {
   "cell_type": "code",
   "execution_count": 6,
   "id": "307722d4",
   "metadata": {},
   "outputs": [
    {
     "name": "stdout",
     "output_type": "stream",
     "text": [
      "2025-08-20 10:10:44,617 - qm - INFO     - Clearing queue\n",
      "2025-08-20 10:10:45,214 - qm - INFO     - Adding program to queue.\n"
     ]
    },
    {
     "name": "stderr",
     "output_type": "stream",
     "text": [
      "c:\\Users\\JackChao\\miniconda3\\envs\\qop350\\Lib\\site-packages\\qm\\program\\_qua_config_schema.py:1894: DeprecationWarning: 'version' is deprecated since \"1.2.2\" and will be removed in \"1.3.0\". Please remove it from the Qua config.\n",
      "  warnings.warn(\n"
     ]
    },
    {
     "name": "stdout",
     "output_type": "stream",
     "text": [
      "2025-08-20 10:10:46,596 - qm - INFO     - Job 3024b974-26bd-43ac-8673-1cca81b34165 is done\n"
     ]
    }
   ],
   "source": [
    "# change full scale power dBm by controller_config\n",
    "controller_config[\"controllers\"][con]['fems'][mw_fem]['analog_outputs'][1]['full_scale_power_dbm']= 4\n",
    "# override config with modified controller_config\n",
    "job4 = qm.execute(hello_qua, config=controller_config) \n",
    "job4.wait_until(\"Done\", timeout=60)"
   ]
  },
  {
   "cell_type": "code",
   "execution_count": 7,
   "id": "a138bb27",
   "metadata": {},
   "outputs": [
    {
     "data": {
      "text/plain": [
       "True"
      ]
     },
     "execution_count": 7,
     "metadata": {},
     "output_type": "execute_result"
    }
   ],
   "source": [
    "qm.close()"
   ]
  },
  {
   "cell_type": "code",
   "execution_count": null,
   "id": "b2da40d6",
   "metadata": {},
   "outputs": [],
   "source": []
  }
 ],
 "metadata": {
  "kernelspec": {
   "display_name": "qop350",
   "language": "python",
   "name": "python3"
  },
  "language_info": {
   "codemirror_mode": {
    "name": "ipython",
    "version": 3
   },
   "file_extension": ".py",
   "mimetype": "text/x-python",
   "name": "python",
   "nbconvert_exporter": "python",
   "pygments_lexer": "ipython3",
   "version": "3.11.13"
  }
 },
 "nbformat": 4,
 "nbformat_minor": 5
}
