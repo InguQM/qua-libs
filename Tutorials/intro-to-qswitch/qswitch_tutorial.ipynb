{
 "cells": [
  {
   "cell_type": "markdown",
   "metadata": {},
   "source": [
    "# QSwitch Usage Tutorial:\n",
    "\n",
    "In this tutorial you will learn how to operate a QSwitch with the help of the provided driver in `qswitch_driver.py`\n",
    "\n",
    "\n"
   ]
  },
  {
   "cell_type": "markdown",
   "metadata": {},
   "source": [
    "### 1. QSwitch Overview: "
   ]
  },
  {
   "cell_type": "markdown",
   "metadata": {},
   "source": [
    "The QSwitch is a remote-controlled 8 channel breakout box for 24-line Fischer (or Micro-D) connector\n",
    "terminated cables. The QSwitch is designed for being placed between for example a 24-channel DC\n",
    "voltage source such as the QDAC-II Compact or a 24-channel manual breakout box such as the QBox\n",
    "(both from Quantum Machines) and the fridge wiring, so that fully automated breakout of any of the 24\n",
    "DC/low frequency lines from the fridge – the signal lines - is possible. \n",
    "\n",
    "Inside the QSwitch there are 10x24 relays which can be toggled individually. Eight of the relay groups are\n",
    "for breaking out to the BNC connectors. One group (!0) is for individual (soft) grounding of the device\n",
    "signal lines. The last group (!9) is for connecting the instrument at the input (IN) to the internal signal\n",
    "lines. See image below for a schematic view of the QSwitch architecture:\n",
    "\n",
    "<p align=\"center\">\n",
    "    <img src=\"./qswitch_schematic.png\" style=\"width:70%;\">\n",
    "</p>\n"
   ]
  },
  {
   "cell_type": "markdown",
   "metadata": {},
   "source": [
    "### 2. Importing the driver and connecting to the QSwitch:"
   ]
  },
  {
   "cell_type": "code",
   "execution_count": 1,
   "metadata": {},
   "outputs": [],
   "source": [
    "from qswitch_driver import QSwitch # The Python class to control the QSwitch\n",
    "from qswitch_driver import UDPConfig # For Ethernet communication with UDP protocol, recommended for Firmware 2.0 and above\n",
    "from qswitch_driver import VISAConfig # For USB communication with VISA protocol.\n",
    "from qswitch_driver import find_qswitch_on_usb # Function to find the QSwitch on USB"
   ]
  },
  {
   "cell_type": "code",
   "execution_count": 2,
   "metadata": {},
   "outputs": [],
   "source": [
    "connection_type = \"ethernet\" # \"ethernet\" or \"usb\""
   ]
  },
  {
   "cell_type": "code",
   "execution_count": 3,
   "metadata": {},
   "outputs": [],
   "source": [
    "if connection_type == \"ethernet\":\n",
    "    # Connection via Ethernet:\n",
    "    ip_address = \"192.168.8.16\"\n",
    "    qswitch = QSwitch(UDPConfig(ip_address))\n",
    "elif connection_type == \"usb\":\n",
    "    # Connection via USB:\n",
    "    usb_address = find_qswitch_on_usb()\n",
    "    qswitch = QSwitch(VISAConfig(usb_address))"
   ]
  },
  {
   "cell_type": "markdown",
   "metadata": {},
   "source": [
    "### 3. Manually opening and closing relays"
   ]
  },
  {
   "cell_type": "markdown",
   "metadata": {},
   "source": [
    "Let's connect and unground line 1 to have a passthrough the Qswitch. "
   ]
  },
  {
   "cell_type": "code",
   "execution_count": 4,
   "metadata": {},
   "outputs": [
    {
     "data": {
      "text/plain": [
       "{'1': ['grounded'],\n",
       " '2': ['grounded'],\n",
       " '3': ['grounded'],\n",
       " '4': ['grounded'],\n",
       " '5': ['grounded'],\n",
       " '6': ['grounded'],\n",
       " '7': ['grounded'],\n",
       " '8': ['grounded'],\n",
       " '9': ['grounded'],\n",
       " '10': ['grounded'],\n",
       " '11': ['grounded'],\n",
       " '12': ['grounded'],\n",
       " '13': ['grounded'],\n",
       " '14': ['grounded'],\n",
       " '15': ['grounded'],\n",
       " '16': ['grounded'],\n",
       " '17': ['grounded'],\n",
       " '18': ['grounded'],\n",
       " '19': ['grounded'],\n",
       " '20': ['grounded'],\n",
       " '21': ['grounded'],\n",
       " '22': ['grounded'],\n",
       " '23': ['grounded'],\n",
       " '24': ['grounded']}"
      ]
     },
     "execution_count": 4,
     "metadata": {},
     "output_type": "execute_result"
    }
   ],
   "source": [
    "# Print the current status of the QSwitch\n",
    "qswitch.overview()"
   ]
  },
  {
   "cell_type": "code",
   "execution_count": 5,
   "metadata": {},
   "outputs": [
    {
     "data": {
      "text/plain": [
       "{'1': ['connected'],\n",
       " '2': ['grounded'],\n",
       " '3': ['grounded'],\n",
       " '4': ['grounded'],\n",
       " '5': ['grounded'],\n",
       " '6': ['grounded'],\n",
       " '7': ['grounded'],\n",
       " '8': ['grounded'],\n",
       " '9': ['grounded'],\n",
       " '10': ['grounded'],\n",
       " '11': ['grounded'],\n",
       " '12': ['grounded'],\n",
       " '13': ['grounded'],\n",
       " '14': ['grounded'],\n",
       " '15': ['grounded'],\n",
       " '16': ['grounded'],\n",
       " '17': ['grounded'],\n",
       " '18': ['grounded'],\n",
       " '19': ['grounded'],\n",
       " '20': ['grounded'],\n",
       " '21': ['grounded'],\n",
       " '22': ['grounded'],\n",
       " '23': ['grounded'],\n",
       " '24': ['grounded']}"
      ]
     },
     "execution_count": 5,
     "metadata": {},
     "output_type": "execute_result"
    }
   ],
   "source": [
    "#################################################################################################################\n",
    "# NOTE: Line and tap correspond to the horizontal and vertical axis of the QSwitch matrix in the image above.   #\n",
    "#################################################################################################################\n",
    "\n",
    "# First connect line 1 by closing it's input relay on tap 9.\n",
    "qswitch.close_relay(line=1, tap=9)\n",
    "# Now unground line 1 by opening the output relay on tap 0.\n",
    "qswitch.open_relay(line=1, tap=0)\n",
    "\n",
    "# Print the current status of the QSwitch\n",
    "qswitch.overview()"
   ]
  },
  {
   "cell_type": "code",
   "execution_count": null,
   "metadata": {},
   "outputs": [
    {
     "data": {
      "text/plain": [
       "{'1': ['connected', 'breakout 1'],\n",
       " '2': ['grounded'],\n",
       " '3': ['grounded'],\n",
       " '4': ['grounded'],\n",
       " '5': ['grounded'],\n",
       " '6': ['grounded'],\n",
       " '7': ['grounded'],\n",
       " '8': ['grounded'],\n",
       " '9': ['grounded'],\n",
       " '10': ['grounded'],\n",
       " '11': ['grounded'],\n",
       " '12': ['grounded'],\n",
       " '13': ['grounded'],\n",
       " '14': ['grounded'],\n",
       " '15': ['grounded'],\n",
       " '16': ['grounded'],\n",
       " '17': ['grounded'],\n",
       " '18': ['grounded'],\n",
       " '19': ['grounded'],\n",
       " '20': ['grounded'],\n",
       " '21': ['grounded'],\n",
       " '22': ['grounded'],\n",
       " '23': ['grounded'],\n",
       " '24': ['grounded']}"
      ]
     },
     "execution_count": 6,
     "metadata": {},
     "output_type": "execute_result"
    }
   ],
   "source": [
    "# We can now connect it line one to BNC breakout number 1 like this:\n",
    "qswitch.close_relay(line=1, tap=1)\n",
    "# Print the current status of the QSwitch\n",
    "qswitch.overview()"
   ]
  },
  {
   "cell_type": "markdown",
   "metadata": {},
   "source": [
    "### 4. Multi-Operation commands"
   ]
  },
  {
   "cell_type": "markdown",
   "metadata": {},
   "source": [
    "Operations across multiple QSwitch line and taps are pre-coded in the QSwitch class. We will present a few."
   ]
  },
  {
   "cell_type": "code",
   "execution_count": null,
   "metadata": {},
   "outputs": [
    {
     "data": {
      "text/plain": [
       "{'1': ['connected', 'breakout 1'],\n",
       " '2': ['connected'],\n",
       " '3': ['connected'],\n",
       " '4': ['connected'],\n",
       " '5': ['connected'],\n",
       " '6': ['connected'],\n",
       " '7': ['grounded'],\n",
       " '8': ['grounded'],\n",
       " '9': ['grounded'],\n",
       " '10': ['grounded'],\n",
       " '11': ['grounded'],\n",
       " '12': ['grounded'],\n",
       " '13': ['grounded'],\n",
       " '14': ['grounded'],\n",
       " '15': ['grounded'],\n",
       " '16': ['grounded'],\n",
       " '17': ['grounded'],\n",
       " '18': ['grounded'],\n",
       " '19': ['grounded'],\n",
       " '20': ['grounded'],\n",
       " '21': ['grounded'],\n",
       " '22': ['grounded'],\n",
       " '23': ['grounded'],\n",
       " '24': ['grounded']}"
      ]
     },
     "execution_count": 7,
     "metadata": {},
     "output_type": "execute_result"
    }
   ],
   "source": [
    "# Connecting and ungrounding a line:\n",
    "qswitch.connect_and_unground(lines=\"2\")\n",
    "# Connecting and ungrounding a multiple lines:\n",
    "qswitch.connect_and_unground(lines=[\"3\", \"4\", \"5\", \"6\"])\n",
    "# Print the current status of the QSwitch\n",
    "qswitch.overview()"
   ]
  },
  {
   "cell_type": "code",
   "execution_count": null,
   "metadata": {},
   "outputs": [
    {
     "data": {
      "text/plain": [
       "{'1': ['connected', 'breakout 1'],\n",
       " '2': ['connected'],\n",
       " '3': ['connected'],\n",
       " '4': ['connected'],\n",
       " '5': ['connected'],\n",
       " '6': ['connected'],\n",
       " '7': ['grounded'],\n",
       " '8': ['breakout 4'],\n",
       " '9': ['grounded'],\n",
       " '10': ['grounded'],\n",
       " '11': ['grounded'],\n",
       " '12': ['grounded'],\n",
       " '13': ['grounded'],\n",
       " '14': ['grounded'],\n",
       " '15': ['grounded'],\n",
       " '16': ['grounded'],\n",
       " '17': ['grounded'],\n",
       " '18': ['grounded'],\n",
       " '19': ['grounded'],\n",
       " '20': ['grounded'],\n",
       " '21': ['grounded'],\n",
       " '22': ['grounded'],\n",
       " '23': ['grounded'],\n",
       " '24': ['grounded']}"
      ]
     },
     "execution_count": 9,
     "metadata": {},
     "output_type": "execute_result"
    }
   ],
   "source": [
    "# Connecting a line to a BNC breakout:\n",
    "qswitch.breakout(line=\"8\", tap=\"4\") # Witch is equivalent to qswitch.close_relay(1, 1) and qswitch.open_relay(1, 0)\n",
    "# Print the current status of the QSwitch\n",
    "qswitch.overview()"
   ]
  },
  {
   "cell_type": "code",
   "execution_count": null,
   "metadata": {},
   "outputs": [],
   "source": [
    "qswitch.ground_and_release_all()\n",
    "qswitch.close()"
   ]
  },
  {
   "cell_type": "code",
   "execution_count": null,
   "metadata": {},
   "outputs": [],
   "source": []
  }
 ],
 "metadata": {
  "kernelspec": {
   "display_name": "QM",
   "language": "python",
   "name": "python3"
  },
  "language_info": {
   "codemirror_mode": {
    "name": "ipython",
    "version": 3
   },
   "file_extension": ".py",
   "mimetype": "text/x-python",
   "name": "python",
   "nbconvert_exporter": "python",
   "pygments_lexer": "ipython3",
   "version": "3.11.11"
  }
 },
 "nbformat": 4,
 "nbformat_minor": 2
}
