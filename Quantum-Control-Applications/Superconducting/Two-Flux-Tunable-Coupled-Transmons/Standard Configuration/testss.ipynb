{
 "cells": [
  {
   "cell_type": "code",
   "execution_count": 20,
   "id": "aa4e3313",
   "metadata": {},
   "outputs": [
    {
     "name": "stdout",
     "output_type": "stream",
     "text": [
      "2025-07-28 20:08:39,632 - qm - INFO     - Performing health check\n",
      "2025-07-28 20:08:39,965 - qm - INFO     - Cluster healthcheck completed successfully.\n"
     ]
    },
    {
     "data": {
      "text/plain": [
       "True"
      ]
     },
     "execution_count": 20,
     "metadata": {},
     "output_type": "execute_result"
    }
   ],
   "source": [
    "from qm import QuantumMachinesManager\n",
    "from qm import QopCaps\n",
    "qop_ip =\"172.16.33.115\"\n",
    "cluster_name = \"CS_3\"\n",
    "qmm = QuantumMachinesManager(host=qop_ip,port=None, cluster_name=cluster_name)\n",
    "qmm.capabilities.supports(QopCaps.waveform_report_endpoint)"
   ]
  },
  {
   "cell_type": "code",
   "execution_count": 19,
   "id": "25437c85",
   "metadata": {},
   "outputs": [
    {
     "data": {
      "text/plain": [
       "True"
      ]
     },
     "execution_count": 19,
     "metadata": {},
     "output_type": "execute_result"
    }
   ],
   "source": [
    "qmm.capabilities.supports(QopCaps.waveform_report_endpoint)"
   ]
  },
  {
   "cell_type": "code",
   "execution_count": null,
   "id": "ccb87276",
   "metadata": {},
   "outputs": [],
   "source": []
  }
 ],
 "metadata": {
  "kernelspec": {
   "display_name": "qop350",
   "language": "python",
   "name": "python3"
  },
  "language_info": {
   "codemirror_mode": {
    "name": "ipython",
    "version": 3
   },
   "file_extension": ".py",
   "mimetype": "text/x-python",
   "name": "python",
   "nbconvert_exporter": "python",
   "pygments_lexer": "ipython3",
   "version": "3.11.13"
  }
 },
 "nbformat": 4,
 "nbformat_minor": 5
}
